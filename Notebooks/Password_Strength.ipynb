{
  "nbformat": 4,
  "nbformat_minor": 0,
  "metadata": {
    "colab": {
      "name": "Password_Strength.ipynb",
      "provenance": [],
      "collapsed_sections": [],
      "toc_visible": true
    },
    "kernelspec": {
      "name": "Python 3.8.5 32-bit",
      "display_name": "Python 3.8.5 32-bit",
      "metadata": {
        "interpreter": {
          "hash": "f2a3fae363c7820dc78d52d4a4cb2853e81f77ff0f3cb01bedf8e2a35df624b9"
        }
      }
    }
  },
  "cells": [
    {
      "cell_type": "code",
      "metadata": {
        "id": "bAcg-gijfRRA"
      },
      "source": [
        "# import os\n",
        "# dir_name = 'Data'\n",
        "# if not os.path.isdir('./' + dir_name + '/'):\n",
        "#   os.mkdir('./' + dir_name + '/')\n",
        "#   !unrar x 'data.rar' -d 'Data'"
      ],
      "execution_count": 100,
      "outputs": []
    },
    {
      "cell_type": "code",
      "metadata": {
        "id": "Mc06CZZwVgI4"
      },
      "source": [
        "import os\n",
        "import pandas as pd\n",
        "import numpy as np\n",
        "import warnings\n",
        "import seaborn as sns\n",
        "warnings.filterwarnings('ignore')"
      ],
      "execution_count": 101,
      "outputs": []
    },
    {
      "cell_type": "code",
      "metadata": {
        "id": "PNBP4-7xVw6O",
        "outputId": "a9a76711-5180-4bfe-b518-7e8a58abade9",
        "colab": {
          "base_uri": "https://localhost:8080/",
          "height": 406
        }
      },
      "source": [
        "path_base = 'C:\\Projects\\Project1'\n",
        "dir_name = 'inputs'\n",
        "full_path = os.path.join('/',path_base,dir_name,'data.csv')\n",
        "\n",
        "data = pd.read_csv(full_path)\n",
        "data"
      ],
      "execution_count": 2,
      "outputs": [
        {
          "output_type": "execute_result",
          "data": {
            "text/plain": [
              "            password strength\n",
              "0           kzde5577        1\n",
              "1           kino3434        1\n",
              "2          visi7k1yr        1\n",
              "3           megzy123        1\n",
              "4        lamborghin1        1\n",
              "...              ...      ...\n",
              "669874    10redtux10        1\n",
              "669875     infrared1        1\n",
              "669876  184520socram        1\n",
              "669877     marken22a        1\n",
              "669878      fxx4pw4g        1\n",
              "\n",
              "[669879 rows x 2 columns]"
            ],
            "text/html": "<div>\n<style scoped>\n    .dataframe tbody tr th:only-of-type {\n        vertical-align: middle;\n    }\n\n    .dataframe tbody tr th {\n        vertical-align: top;\n    }\n\n    .dataframe thead th {\n        text-align: right;\n    }\n</style>\n<table border=\"1\" class=\"dataframe\">\n  <thead>\n    <tr style=\"text-align: right;\">\n      <th></th>\n      <th>password</th>\n      <th>strength</th>\n    </tr>\n  </thead>\n  <tbody>\n    <tr>\n      <th>0</th>\n      <td>kzde5577</td>\n      <td>1</td>\n    </tr>\n    <tr>\n      <th>1</th>\n      <td>kino3434</td>\n      <td>1</td>\n    </tr>\n    <tr>\n      <th>2</th>\n      <td>visi7k1yr</td>\n      <td>1</td>\n    </tr>\n    <tr>\n      <th>3</th>\n      <td>megzy123</td>\n      <td>1</td>\n    </tr>\n    <tr>\n      <th>4</th>\n      <td>lamborghin1</td>\n      <td>1</td>\n    </tr>\n    <tr>\n      <th>...</th>\n      <td>...</td>\n      <td>...</td>\n    </tr>\n    <tr>\n      <th>669874</th>\n      <td>10redtux10</td>\n      <td>1</td>\n    </tr>\n    <tr>\n      <th>669875</th>\n      <td>infrared1</td>\n      <td>1</td>\n    </tr>\n    <tr>\n      <th>669876</th>\n      <td>184520socram</td>\n      <td>1</td>\n    </tr>\n    <tr>\n      <th>669877</th>\n      <td>marken22a</td>\n      <td>1</td>\n    </tr>\n    <tr>\n      <th>669878</th>\n      <td>fxx4pw4g</td>\n      <td>1</td>\n    </tr>\n  </tbody>\n</table>\n<p>669879 rows × 2 columns</p>\n</div>"
          },
          "metadata": {},
          "execution_count": 2
        }
      ]
    },
    {
      "cell_type": "code",
      "metadata": {
        "id": "-NZH3J6oeVTP",
        "outputId": "687e9ab9-9b9b-446c-d1f7-5ff4ca0177fc",
        "colab": {
          "base_uri": "https://localhost:8080/",
          "height": 66
        }
      },
      "source": [
        "data.isna().sum()"
      ],
      "execution_count": 3,
      "outputs": [
        {
          "output_type": "execute_result",
          "data": {
            "text/plain": [
              "password    1\n",
              "strength    0\n",
              "dtype: int64"
            ]
          },
          "metadata": {},
          "execution_count": 3
        }
      ]
    },
    {
      "cell_type": "code",
      "metadata": {
        "id": "bW0ZuPQAqfrt"
      },
      "source": [
        "data = data.dropna(how = \"any\")"
      ],
      "execution_count": 4,
      "outputs": []
    },
    {
      "cell_type": "code",
      "metadata": {
        "id": "0xU9dMMaeWVM",
        "outputId": "f760f442-fb17-407e-c5c2-35f47f90548f",
        "colab": {
          "base_uri": "https://localhost:8080/",
          "height": 216
        }
      },
      "source": [
        "data['strength'].value_counts()"
      ],
      "execution_count": 5,
      "outputs": [
        {
          "output_type": "execute_result",
          "data": {
            "text/plain": [
              "1                                496801\n",
              "0                                 89701\n",
              "2                                 83137\n",
              "ckrguzel61@hotmail.com                2\n",
              "igoubane@gmail.com                    2\n",
              "                                  ...  \n",
              "karaselim.colakoglu@gmail.com         1\n",
              "kaankarayel_2012@hotmail.com          1\n",
              "kudigaf-59@hotmail.com                1\n",
              "selim_sarikaya42@hotmail.com          1\n",
              "efsane.mardinli@gmail.com             1\n",
              "Name: strength, Length: 239, dtype: int64"
            ]
          },
          "metadata": {},
          "execution_count": 5
        }
      ]
    },
    {
      "cell_type": "code",
      "metadata": {
        "id": "tycGS4MNeWa9",
        "outputId": "7f6e855f-a04e-4d39-e5dd-41fa33006c88",
        "colab": {
          "base_uri": "https://localhost:8080/",
          "height": 83
        }
      },
      "source": [
        "data = data.loc[(data.strength=='0') | (data.strength=='1') | (data.strength=='2'),:]\n",
        "sum = data['strength'].value_counts().sum()\n",
        "# data['strength'].value_counts()/sum\n",
        "data['strength'].value_counts()"
      ],
      "execution_count": 6,
      "outputs": [
        {
          "output_type": "execute_result",
          "data": {
            "text/plain": [
              "1    496801\n",
              "0     89701\n",
              "2     83137\n",
              "Name: strength, dtype: int64"
            ]
          },
          "metadata": {},
          "execution_count": 6
        }
      ]
    },
    {
      "cell_type": "markdown",
      "metadata": {
        "id": "vn1RCTIkxYR9"
      },
      "source": [
        "# We choose the same proportion of classes for the strength column."
      ]
    },
    {
      "cell_type": "code",
      "metadata": {
        "id": "zVFLetF9xXdm"
      },
      "source": [
        "strength0 = data.loc[(data.strength == '0')]\n",
        "strength1 = data.loc[(data.strength == '1')]\n",
        "strength2 = data.loc[(data.strength == '2')]"
      ],
      "execution_count": 7,
      "outputs": []
    },
    {
      "cell_type": "code",
      "metadata": {
        "id": "phMV-YZHybdy",
        "outputId": "bdcefe7c-8d32-42af-8d71-07b6802c9b4c",
        "colab": {
          "base_uri": "https://localhost:8080/",
          "height": 33
        }
      },
      "source": [
        "(strength0.shape, strength1.shape, strength2.shape)"
      ],
      "execution_count": 8,
      "outputs": [
        {
          "output_type": "execute_result",
          "data": {
            "text/plain": [
              "((89701, 2), (496801, 2), (83137, 2))"
            ]
          },
          "metadata": {},
          "execution_count": 8
        }
      ]
    },
    {
      "cell_type": "code",
      "metadata": {
        "id": "okA-a1VLyt8x"
      },
      "source": [
        "strength0 = strength0.head(83137)\n",
        "strength1 = strength1.head(83137)\n",
        "strength2 = strength2.head(83137)"
      ],
      "execution_count": 9,
      "outputs": []
    },
    {
      "cell_type": "code",
      "metadata": {
        "id": "UMMJgAdszPtw",
        "outputId": "c0556acd-6c8f-43ec-da4a-5596747e6975",
        "colab": {
          "base_uri": "https://localhost:8080/",
          "height": 33
        }
      },
      "source": [
        "(strength0.shape, strength1.shape, strength2.shape)"
      ],
      "execution_count": 10,
      "outputs": [
        {
          "output_type": "execute_result",
          "data": {
            "text/plain": [
              "((83137, 2), (83137, 2), (83137, 2))"
            ]
          },
          "metadata": {},
          "execution_count": 10
        }
      ]
    },
    {
      "cell_type": "code",
      "metadata": {
        "id": "FapmzwlT2RW8"
      },
      "source": [
        "data = strength0.append(strength1.append(strength2))"
      ],
      "execution_count": 11,
      "outputs": []
    },
    {
      "cell_type": "code",
      "metadata": {
        "id": "zg9TIpCtFPg9",
        "outputId": "a5a4fcbf-672a-434a-a73f-a0dd9e3bc35f",
        "colab": {
          "base_uri": "https://localhost:8080/",
          "height": 33
        }
      },
      "source": [
        "X = data.password\n",
        "y = data.strength\n",
        "(X.shape, y.shape) \n"
      ],
      "execution_count": 12,
      "outputs": [
        {
          "output_type": "execute_result",
          "data": {
            "text/plain": [
              "((249411,), (249411,))"
            ]
          },
          "metadata": {},
          "execution_count": 12
        }
      ]
    },
    {
      "cell_type": "markdown",
      "metadata": {
        "id": "zJaxLEPHzmRv"
      },
      "source": [
        "# We separate each password adding white spaces to each character."
      ]
    },
    {
      "cell_type": "code",
      "metadata": {
        "id": "T4GjZy7wvP6x"
      },
      "source": [
        "def word_to_characters(inputs):\n",
        "  characters = []\n",
        "  st = \" \"\n",
        "  for i in inputs:\n",
        "    characters.append(i)\n",
        "  return st.join(characters)"
      ],
      "execution_count": 13,
      "outputs": []
    },
    {
      "cell_type": "code",
      "metadata": {
        "id": "3cIbnannL-Oy",
        "outputId": "8f93f011-013f-47ce-a757-8e46c5a026c3",
        "colab": {
          "base_uri": "https://localhost:8080/",
          "height": 116
        }
      },
      "source": [
        "X2 = X.map(lambda x: word_to_characters(x))\n",
        "X2.head()"
      ],
      "execution_count": 14,
      "outputs": [
        {
          "output_type": "execute_result",
          "data": {
            "text/plain": [
              "21      i n t e l 1\n",
              "35    l s d l s d 1\n",
              "44      o l m a z .\n",
              "50      o k > b d k\n",
              "58      d 0 4 m 1 1\n",
              "Name: password, dtype: object"
            ]
          },
          "metadata": {},
          "execution_count": 14
        }
      ]
    },
    {
      "cell_type": "markdown",
      "metadata": {
        "id": "MVg9X6WF0Jan"
      },
      "source": [
        "# We make some experiments with different tokenizers to evaluate which one shows better results."
      ]
    },
    {
      "cell_type": "code",
      "metadata": {
        "id": "WcfB78IqB8XQ"
      },
      "source": [
        "# from nltk.tokenize import TweetTokenizer\n",
        "# tknzr = TweetTokenizer()\n",
        "# s0 = \"This is a cooool #dummysmiley: :-) :-P <3 and some arrows < > -> <--\"\n",
        "# tknzr.tokenize(s0)\n",
        "# # ['This', 'is', 'a', 'cooool', '#dummysmiley', ':', ':-)', ':-P', '<3', 'and', 'some', 'arrows', '<', '>', '->', '<--']"
      ],
      "execution_count": null,
      "outputs": []
    },
    {
      "cell_type": "code",
      "metadata": {
        "id": "qNXBVAbdnKZT"
      },
      "source": [
        "# from nltk.tokenize import RegexpTokenizer\n",
        "# s = \"Good muffins cost $3.88\\nin New York.  Please buy me\\ntwo of them.\\n\\nThanks.\"\n",
        "# tokenizer = RegexpTokenizer('\\w+|\\$[\\d\\.]+|\\S+')\n",
        "# tokenizer.tokenize(s)\n",
        "# # ['Good', 'muffins', 'cost', '$3.88', 'in', 'New', 'York', '.',\n",
        "# # 'Please', 'buy', 'me', 'two', 'of', 'them', '.', 'Thanks', '.']"
      ],
      "execution_count": null,
      "outputs": []
    },
    {
      "cell_type": "code",
      "metadata": {
        "id": "8lXdXXLzuvsJ",
        "outputId": "d291e442-95bf-46ef-c844-d1a1a171562d",
        "colab": {
          "base_uri": "https://localhost:8080/",
          "height": 33
        }
      },
      "source": [
        "from nltk.tokenize import WhitespaceTokenizer\n",
        "s = \"A b c de\"\n",
        "WhitespaceTokenizer().tokenize(s)"
      ],
      "execution_count": 15,
      "outputs": [
        {
          "output_type": "execute_result",
          "data": {
            "text/plain": [
              "['A', 'b', 'c', 'de']"
            ]
          },
          "metadata": {},
          "execution_count": 15
        }
      ]
    },
    {
      "cell_type": "code",
      "metadata": {
        "id": "hm-Cv4L7vQ_b"
      },
      "source": [
        "from sklearn.feature_extraction.text import TfidfVectorizer\n",
        "# vectorizer = TfidfVectorizer(tokenizer = word_to_characters)\n",
        "# vectorizer = TfidfVectorizer(tokenizer = TweetTokenizer().tokenize)\n",
        "# vectorizer = TfidfVectorizer()\n",
        "vectorizer = TfidfVectorizer(tokenizer = WhitespaceTokenizer().tokenize)\n"
      ],
      "execution_count": 16,
      "outputs": []
    },
    {
      "cell_type": "code",
      "execution_count": 103,
      "metadata": {},
      "outputs": [],
      "source": [
        "os.chdir(\"C:\\Projects\\Project1\\Models\")"
      ]
    },
    {
      "cell_type": "code",
      "execution_count": 115,
      "metadata": {},
      "outputs": [
        {
          "output_type": "execute_result",
          "data": {
            "text/plain": [
              "TfidfVectorizer(tokenizer=<bound method RegexpTokenizer.tokenize of WhitespaceTokenizer(pattern='\\\\s+', gaps=True, discard_empty=True, flags=re.UNICODE|re.MULTILINE|re.DOTALL)>)"
            ]
          },
          "metadata": {},
          "execution_count": 115
        }
      ],
      "source": [
        "pickle.dump(vectorizer, open(\"vectorizer.pkl\",'wb'))  \n",
        "pickle.load(open(\"vectorizer.pkl\",'rb')) "
      ]
    },
    {
      "cell_type": "code",
      "metadata": {
        "id": "kCI9GlwUAgO5",
        "outputId": "cffe8ef2-687e-4b72-b699-e86919d443c4",
        "colab": {
          "base_uri": "https://localhost:8080/",
          "height": 33
        }
      },
      "source": [
        "def load(filename_pkl):\n",
        "    path_base = 'C:\\Projects\\Project1'\n",
        "    dir_name = \"Models\"\n",
        "    full_path = os.path.join('/',path_base,dir_name,filename_pkl)    \n",
        "    # full_path = os.path.join('./',path_base,filename_pkl)\n",
        "    pickle.load(open(full_path, 'rb'))\n",
        "    # return print(full_path)"
      ],
      "execution_count": 105,
      "outputs": []
    },
    {
      "cell_type": "code",
      "metadata": {
        "id": "LXsyH_NnvWh3"
      },
      "source": [
        "XX = vectorizer.fit_transform(X2)"
      ],
      "execution_count": 30,
      "outputs": []
    },
    {
      "cell_type": "code",
      "metadata": {
        "id": "CKKS4FO3It6P"
      },
      "source": [
        "# -->   stratify = y   <-- produces the same proportion as in X and y\n",
        "from sklearn.model_selection import train_test_split\n",
        "x_train, x_test, y_train, y_test = train_test_split(XX, y, test_size = 0.2)"
      ],
      "execution_count": 31,
      "outputs": []
    },
    {
      "cell_type": "code",
      "metadata": {
        "id": "WXBSBIImeWvE",
        "outputId": "76e78a62-0792-4702-b3a7-28d11354bb5d",
        "colab": {
          "base_uri": "https://localhost:8080/",
          "height": 100
        }
      },
      "source": [
        "y_train_df = pd.DataFrame(y_train)\n",
        "sum = y_train_df.value_counts().sum()\n",
        "y_train_df.value_counts()/sum"
      ],
      "execution_count": 32,
      "outputs": [
        {
          "output_type": "execute_result",
          "data": {
            "text/plain": [
              "strength\n",
              "2           0.333863\n",
              "1           0.333221\n",
              "0           0.332916\n",
              "dtype: float64"
            ]
          },
          "metadata": {},
          "execution_count": 32
        }
      ]
    },
    {
      "cell_type": "code",
      "metadata": {
        "id": "SQBmMVUHeW5h",
        "outputId": "9987d40d-7385-4212-b440-a3d3ae13615c",
        "colab": {
          "base_uri": "https://localhost:8080/",
          "height": 100
        }
      },
      "source": [
        "y_test_df = pd.DataFrame(y_test)\n",
        "sum = y_test_df.value_counts().sum()\n",
        "y_test_df.value_counts()/sum"
      ],
      "execution_count": 33,
      "outputs": [
        {
          "output_type": "execute_result",
          "data": {
            "text/plain": [
              "strength\n",
              "0           0.335004\n",
              "1           0.333781\n",
              "2           0.331215\n",
              "dtype: float64"
            ]
          },
          "metadata": {},
          "execution_count": 33
        }
      ]
    },
    {
      "cell_type": "code",
      "metadata": {
        "id": "ptkMxm4aqygC",
        "outputId": "8aa33e76-55b5-4174-bd39-6b056599baf8",
        "colab": {
          "base_uri": "https://localhost:8080/",
          "height": 33
        }
      },
      "source": [
        "(x_train.shape , x_test.shape , y_train.shape , y_test.shape)"
      ],
      "execution_count": 34,
      "outputs": [
        {
          "output_type": "execute_result",
          "data": {
            "text/plain": [
              "((199528, 137), (49883, 137), (199528,), (49883,))"
            ]
          },
          "metadata": {},
          "execution_count": 34
        }
      ]
    },
    {
      "cell_type": "code",
      "metadata": {
        "id": "zCYFM1BKeXet"
      },
      "source": [
        ""
      ],
      "execution_count": null,
      "outputs": []
    },
    {
      "cell_type": "markdown",
      "metadata": {
        "id": "zt33JQiD1Cvq"
      },
      "source": [
        "# Model 1"
      ]
    },
    {
      "cell_type": "code",
      "metadata": {
        "id": "kbvOSxQIeXtP"
      },
      "source": [
        "from sklearn.linear_model import LogisticRegression\n",
        "log_reg = LogisticRegression(penalty = 'l2', multi_class = 'ovr')\n",
        "log_reg"
      ],
      "execution_count": 121,
      "outputs": [
        {
          "output_type": "execute_result",
          "data": {
            "text/plain": [
              "LogisticRegression(multi_class='ovr')"
            ]
          },
          "metadata": {},
          "execution_count": 121
        }
      ]
    },
    {
      "cell_type": "code",
      "metadata": {
        "id": "P9h-F_2TeXkC",
        "outputId": "6e9685c8-e8a3-46b1-e005-3be9da29659f",
        "colab": {
          "base_uri": "https://localhost:8080/",
          "height": 100
        }
      },
      "source": [
        "log_reg.fit(x_train,y_train)"
      ],
      "execution_count": 122,
      "outputs": [
        {
          "output_type": "execute_result",
          "data": {
            "text/plain": [
              "LogisticRegression(multi_class='ovr')"
            ]
          },
          "metadata": {},
          "execution_count": 122
        }
      ]
    },
    {
      "cell_type": "code",
      "metadata": {
        "id": "Ib7XnAq5eXcL",
        "outputId": "611ce4c1-c093-4be2-a34e-373e7d11bf32",
        "colab": {
          "base_uri": "https://localhost:8080/",
          "height": 33
        }
      },
      "source": [
        "log_reg.score(x_train,y_train)"
      ],
      "execution_count": 123,
      "outputs": [
        {
          "output_type": "execute_result",
          "data": {
            "text/plain": [
              "0.7957780361653503"
            ]
          },
          "metadata": {},
          "execution_count": 123
        }
      ]
    },
    {
      "cell_type": "code",
      "metadata": {
        "id": "GfKVPpHdeXMz",
        "outputId": "57331e42-283f-448e-d808-92aa0437204b",
        "colab": {
          "base_uri": "https://localhost:8080/",
          "height": 33
        }
      },
      "source": [
        "log_reg.score(x_test, y_test)"
      ],
      "execution_count": 124,
      "outputs": [
        {
          "output_type": "execute_result",
          "data": {
            "text/plain": [
              "0.7961830683800092"
            ]
          },
          "metadata": {},
          "execution_count": 124
        }
      ]
    },
    {
      "cell_type": "code",
      "metadata": {
        "id": "vO7fL8OZeXCi",
        "outputId": "b5eef128-9b68-4b30-d632-03f18389b30b",
        "colab": {
          "base_uri": "https://localhost:8080/",
          "height": 33
        }
      },
      "source": [
        "pickle.dump(log_reg, open(\"log_reg.pkl\",'wb'))  \n",
        "pickle.load(open(\"log_reg.pkl\",'rb')) "
      ],
      "execution_count": 125,
      "outputs": [
        {
          "output_type": "execute_result",
          "data": {
            "text/plain": [
              "LogisticRegression(multi_class='ovr')"
            ]
          },
          "metadata": {},
          "execution_count": 125
        }
      ]
    },
    {
      "cell_type": "markdown",
      "metadata": {
        "id": "HJtWbS9nxVH8"
      },
      "source": [
        "# We make a simple test\n"
      ]
    },
    {
      "cell_type": "code",
      "metadata": {
        "id": "yznb-_eW5n5C",
        "outputId": "2373603d-b168-4a37-f682-5bf7e5c16915",
        "colab": {
          "base_uri": "https://localhost:8080/",
          "height": 167
        }
      },
      "source": [
        "Password = pd.DataFrame([\"Peztwurt169#\", \"ñzjmbjfufk\", \"ldcubmd589\",\"Rutla100#\"], columns=[\"A\"])\n",
        "Password"
      ],
      "execution_count": 126,
      "outputs": [
        {
          "output_type": "execute_result",
          "data": {
            "text/plain": [
              "              A\n",
              "0  Peztwurt169#\n",
              "1    ñzjmbjfufk\n",
              "2    ldcubmd589\n",
              "3     Rutla100#"
            ],
            "text/html": "<div>\n<style scoped>\n    .dataframe tbody tr th:only-of-type {\n        vertical-align: middle;\n    }\n\n    .dataframe tbody tr th {\n        vertical-align: top;\n    }\n\n    .dataframe thead th {\n        text-align: right;\n    }\n</style>\n<table border=\"1\" class=\"dataframe\">\n  <thead>\n    <tr style=\"text-align: right;\">\n      <th></th>\n      <th>A</th>\n    </tr>\n  </thead>\n  <tbody>\n    <tr>\n      <th>0</th>\n      <td>Peztwurt169#</td>\n    </tr>\n    <tr>\n      <th>1</th>\n      <td>ñzjmbjfufk</td>\n    </tr>\n    <tr>\n      <th>2</th>\n      <td>ldcubmd589</td>\n    </tr>\n    <tr>\n      <th>3</th>\n      <td>Rutla100#</td>\n    </tr>\n  </tbody>\n</table>\n</div>"
          },
          "metadata": {},
          "execution_count": 126
        }
      ]
    },
    {
      "cell_type": "code",
      "metadata": {
        "id": "ToU7flQRwvLE",
        "outputId": "8b5836b6-8d99-4920-caf2-e6087f68e5fd",
        "colab": {
          "base_uri": "https://localhost:8080/",
          "height": 100
        }
      },
      "source": [
        "A2 = Password[\"A\"].map(lambda x: word_to_characters(x))\n",
        "A2"
      ],
      "execution_count": 127,
      "outputs": [
        {
          "output_type": "execute_result",
          "data": {
            "text/plain": [
              "0    P e z t w u r t 1 6 9 #\n",
              "1        ñ z j m b j f u f k\n",
              "2        l d c u b m d 5 8 9\n",
              "3          R u t l a 1 0 0 #\n",
              "Name: A, dtype: object"
            ]
          },
          "metadata": {},
          "execution_count": 127
        }
      ]
    },
    {
      "cell_type": "code",
      "metadata": {
        "id": "_jOUkDrS5FDp",
        "outputId": "cec2c4df-d218-4564-90dd-12f97d4c8a8a",
        "colab": {
          "base_uri": "https://localhost:8080/",
          "height": 100
        }
      },
      "source": [
        "Password[\"A\"]"
      ],
      "execution_count": 128,
      "outputs": [
        {
          "output_type": "execute_result",
          "data": {
            "text/plain": [
              "0    Peztwurt169#\n",
              "1      ñzjmbjfufk\n",
              "2      ldcubmd589\n",
              "3       Rutla100#\n",
              "Name: A, dtype: object"
            ]
          },
          "metadata": {},
          "execution_count": 128
        }
      ]
    },
    {
      "cell_type": "code",
      "metadata": {
        "id": "gAndN2U1nnDP"
      },
      "source": [
        "vectorizer_model = pickle.load(open(\"vectorizer.pkl\",'rb')) \n",
        "\n",
        "Password_vec = vectorizer_model.transform(A2)"
      ],
      "execution_count": 129,
      "outputs": []
    },
    {
      "cell_type": "code",
      "execution_count": 79,
      "metadata": {},
      "outputs": [],
      "source": []
    },
    {
      "cell_type": "code",
      "execution_count": 130,
      "metadata": {},
      "outputs": [
        {
          "output_type": "execute_result",
          "data": {
            "text/plain": [
              "LogisticRegression(multi_class='ovr')"
            ]
          },
          "metadata": {},
          "execution_count": 130
        }
      ],
      "source": [
        "log_reg_Model = pickle.load(open(\"log_reg.pkl\",'rb')) \n",
        "log_reg_Model"
      ]
    },
    {
      "cell_type": "code",
      "execution_count": 131,
      "metadata": {},
      "outputs": [
        {
          "output_type": "execute_result",
          "data": {
            "text/plain": [
              "array(['2', '0', '1', '2'], dtype=object)"
            ]
          },
          "metadata": {},
          "execution_count": 131
        }
      ],
      "source": [
        "log_reg_Model.predict(Password_vec)"
      ]
    },
    {
      "cell_type": "markdown",
      "metadata": {
        "id": "LSifLH9L1VSb"
      },
      "source": [
        "# Model 2"
      ]
    },
    {
      "cell_type": "code",
      "metadata": {
        "id": "eEHVF91p5pgF",
        "outputId": "a604a713-3cf6-4454-ef07-ef9ecb0c72d0",
        "colab": {
          "base_uri": "https://localhost:8080/",
          "height": 33
        }
      },
      "source": [
        "from sklearn.naive_bayes import BernoulliNB\n",
        "Bernoulli_Naive_Bayes = BernoulliNB()\n",
        "Bernoulli_Naive_Bayes.fit(x_train,y_train)"
      ],
      "execution_count": 132,
      "outputs": [
        {
          "output_type": "execute_result",
          "data": {
            "text/plain": [
              "BernoulliNB()"
            ]
          },
          "metadata": {},
          "execution_count": 132
        }
      ]
    },
    {
      "cell_type": "code",
      "metadata": {
        "id": "d4C3PNy85pnT",
        "outputId": "06efe0b7-45c7-4880-f0d1-6c180107a7aa",
        "colab": {
          "base_uri": "https://localhost:8080/",
          "height": 33
        }
      },
      "source": [
        "Bernoulli_Naive_Bayes.score(x_train,y_train)"
      ],
      "execution_count": 133,
      "outputs": [
        {
          "output_type": "execute_result",
          "data": {
            "text/plain": [
              "0.8198348101519586"
            ]
          },
          "metadata": {},
          "execution_count": 133
        }
      ]
    },
    {
      "cell_type": "code",
      "metadata": {
        "id": "h1A8YxMI5p4o",
        "outputId": "aa210299-b06d-4a51-da0f-c8c808f8ad55",
        "colab": {
          "base_uri": "https://localhost:8080/",
          "height": 33
        }
      },
      "source": [
        "Bernoulli_Naive_Bayes.score(x_test,y_test)"
      ],
      "execution_count": 134,
      "outputs": [
        {
          "output_type": "execute_result",
          "data": {
            "text/plain": [
              "0.819136780065353"
            ]
          },
          "metadata": {},
          "execution_count": 134
        }
      ]
    },
    {
      "cell_type": "code",
      "metadata": {
        "id": "sPvB50Mh5qCX",
        "outputId": "bf3e218e-73f9-4431-9c26-aa1b9e70a77c",
        "colab": {
          "base_uri": "https://localhost:8080/",
          "height": 33
        }
      },
      "source": [
        "pickle.dump(Bernoulli_Naive_Bayes, open(\"Bernoulli_Naive_Bayes.pkl\",'wb'))\n",
        "pickle.load(open(\"Bernoulli_Naive_Bayes.pkl\",'rb')) "
      ],
      "execution_count": 136,
      "outputs": [
        {
          "output_type": "execute_result",
          "data": {
            "text/plain": [
              "BernoulliNB()"
            ]
          },
          "metadata": {},
          "execution_count": 136
        }
      ]
    },
    {
      "cell_type": "markdown",
      "metadata": {
        "id": "fLJCZMqZ1cUl"
      },
      "source": [
        "# Model 3"
      ]
    },
    {
      "cell_type": "code",
      "metadata": {
        "id": "osbjIGWc5ptG",
        "outputId": "bf5362f6-21f5-4717-bc9a-5cda5901a9e7",
        "colab": {
          "base_uri": "https://localhost:8080/",
          "height": 116
        }
      },
      "source": [
        "from sklearn.tree import DecisionTreeClassifier\n",
        "Decision_Tree = DecisionTreeClassifier()\n",
        "Decision_Tree.fit(x_train,y_train)"
      ],
      "execution_count": 137,
      "outputs": [
        {
          "output_type": "execute_result",
          "data": {
            "text/plain": [
              "DecisionTreeClassifier()"
            ]
          },
          "metadata": {},
          "execution_count": 137
        }
      ]
    },
    {
      "cell_type": "code",
      "metadata": {
        "id": "LnD6wFV0eW1U",
        "outputId": "b7ee2c8f-d3fa-4753-e2f3-ce4d0bd42121",
        "colab": {
          "base_uri": "https://localhost:8080/",
          "height": 33
        }
      },
      "source": [
        "Decision_Tree.score(x_train,y_train)"
      ],
      "execution_count": 138,
      "outputs": [
        {
          "output_type": "execute_result",
          "data": {
            "text/plain": [
              "0.9998095505392727"
            ]
          },
          "metadata": {},
          "execution_count": 138
        }
      ]
    },
    {
      "cell_type": "code",
      "metadata": {
        "id": "T75BfqE5eWql",
        "outputId": "9045060d-06d6-425a-ed88-2608c2c1cae0",
        "colab": {
          "base_uri": "https://localhost:8080/",
          "height": 33
        }
      },
      "source": [
        "Decision_Tree.score(x_test,y_test)"
      ],
      "execution_count": 139,
      "outputs": [
        {
          "output_type": "execute_result",
          "data": {
            "text/plain": [
              "0.8861335525128802"
            ]
          },
          "metadata": {},
          "execution_count": 139
        }
      ]
    },
    {
      "cell_type": "code",
      "metadata": {
        "id": "pmQEKKhreWm3",
        "outputId": "65a34304-7692-44ed-ec11-ecec89ab2809",
        "colab": {
          "base_uri": "https://localhost:8080/",
          "height": 33
        }
      },
      "source": [
        "pickle.dump(Decision_Tree, open(\"Decision_Tree.pkl\",'wb'))\n",
        "pickle.load(open(\"Decision_Tree.pkl\",'rb')) "
      ],
      "execution_count": 140,
      "outputs": [
        {
          "output_type": "execute_result",
          "data": {
            "text/plain": [
              "DecisionTreeClassifier()"
            ]
          },
          "metadata": {},
          "execution_count": 140
        }
      ]
    },
    {
      "cell_type": "markdown",
      "metadata": {
        "id": "29MpN_YY1gsI"
      },
      "source": [
        "# Model 4"
      ]
    },
    {
      "cell_type": "code",
      "metadata": {
        "id": "Wm_F98K3eXAO",
        "outputId": "55be140e-ca1f-40fd-c257-27ea2b90ec5d",
        "colab": {
          "base_uri": "https://localhost:8080/",
          "height": 150
        }
      },
      "source": [
        "from sklearn.ensemble import RandomForestClassifier\n",
        "Random_Forest = RandomForestClassifier(n_estimators=100, max_depth=50, criterion='entropy')\n",
        "Random_Forest.fit(x_train,y_train)"
      ],
      "execution_count": 149,
      "outputs": [
        {
          "output_type": "execute_result",
          "data": {
            "text/plain": [
              "RandomForestClassifier(criterion='entropy', max_depth=50)"
            ]
          },
          "metadata": {},
          "execution_count": 149
        }
      ]
    },
    {
      "cell_type": "code",
      "metadata": {
        "id": "eUuRBthr8cFS",
        "outputId": "82108f0b-d652-4ff6-a15f-12479bdf706e",
        "colab": {
          "base_uri": "https://localhost:8080/",
          "height": 33
        }
      },
      "source": [
        "Random_Forest.score(x_train,y_train)"
      ],
      "execution_count": 150,
      "outputs": [
        {
          "output_type": "execute_result",
          "data": {
            "text/plain": [
              "0.9998095505392727"
            ]
          },
          "metadata": {},
          "execution_count": 150
        }
      ]
    },
    {
      "cell_type": "code",
      "metadata": {
        "id": "tEs9dgbP8cUV",
        "outputId": "7c1613f8-7012-42bd-f64f-e55e43139e8a",
        "colab": {
          "base_uri": "https://localhost:8080/",
          "height": 33
        }
      },
      "source": [
        "Random_Forest.score(x_test,y_test)"
      ],
      "execution_count": 151,
      "outputs": [
        {
          "output_type": "execute_result",
          "data": {
            "text/plain": [
              "0.9468155483832167"
            ]
          },
          "metadata": {},
          "execution_count": 151
        }
      ]
    },
    {
      "cell_type": "code",
      "metadata": {
        "id": "QPgGP2xd8ch0",
        "outputId": "d70bf2e6-f211-467b-e52b-61c10bb20719",
        "colab": {
          "base_uri": "https://localhost:8080/",
          "height": 33
        }
      },
      "source": [
        "pickle.dump(Random_Forest, open(\"Random_Forest.pkl\",'wb'))\n",
        "pickle.load(open(\"Random_Forest.pkl\",'rb')) "
      ],
      "execution_count": 152,
      "outputs": [
        {
          "output_type": "execute_result",
          "data": {
            "text/plain": [
              "RandomForestClassifier(criterion='entropy', max_depth=50)"
            ]
          },
          "metadata": {},
          "execution_count": 152
        }
      ]
    },
    {
      "cell_type": "markdown",
      "metadata": {
        "id": "yO0gb8n71l91"
      },
      "source": [
        "# Model 5"
      ]
    },
    {
      "cell_type": "code",
      "metadata": {
        "id": "_eafv1b8BKAk",
        "outputId": "4683bbc6-8488-4acc-b04e-27934b57aa92",
        "colab": {
          "base_uri": "https://localhost:8080/",
          "height": 150
        }
      },
      "source": [
        "from sklearn.neural_network import MLPClassifier\n",
        "mlp = MLPClassifier(solver = 'adam', alpha = 1e-5, max_iter=400, activation='logistic')"
      ],
      "execution_count": 157,
      "outputs": []
    },
    {
      "cell_type": "code",
      "execution_count": 158,
      "metadata": {},
      "outputs": [
        {
          "output_type": "execute_result",
          "data": {
            "text/plain": [
              "MLPClassifier(activation='logistic', alpha=1e-05, max_iter=400)"
            ]
          },
          "metadata": {},
          "execution_count": 158
        }
      ],
      "source": [
        "mlp.fit(x_train,y_train)"
      ]
    },
    {
      "cell_type": "code",
      "metadata": {
        "id": "4vUEU9MYMn__",
        "outputId": "0a34642e-dd9a-42b6-ad01-1188e22d5280",
        "colab": {
          "base_uri": "https://localhost:8080/",
          "height": 33
        }
      },
      "source": [
        "mlp.score(x_train,y_train)"
      ],
      "execution_count": 159,
      "outputs": [
        {
          "output_type": "error",
          "ename": "MemoryError",
          "evalue": "Unable to allocate 152. MiB for an array with shape (199528, 100) and data type float64",
          "traceback": [
            "\u001b[1;31m---------------------------------------------------------------------------\u001b[0m",
            "\u001b[1;31mMemoryError\u001b[0m                               Traceback (most recent call last)",
            "\u001b[1;32m<ipython-input-159-45f26a7feeec>\u001b[0m in \u001b[0;36m<module>\u001b[1;34m\u001b[0m\n\u001b[1;32m----> 1\u001b[1;33m \u001b[0mmlp\u001b[0m\u001b[1;33m.\u001b[0m\u001b[0mscore\u001b[0m\u001b[1;33m(\u001b[0m\u001b[0mx_train\u001b[0m\u001b[1;33m,\u001b[0m\u001b[0my_train\u001b[0m\u001b[1;33m)\u001b[0m\u001b[1;33m\u001b[0m\u001b[1;33m\u001b[0m\u001b[0m\n\u001b[0m",
            "\u001b[1;32m~\\AppData\\Local\\Programs\\Python\\Python38-32\\lib\\site-packages\\sklearn\\base.py\u001b[0m in \u001b[0;36mscore\u001b[1;34m(self, X, y, sample_weight)\u001b[0m\n\u001b[0;32m    497\u001b[0m         \"\"\"\n\u001b[0;32m    498\u001b[0m         \u001b[1;32mfrom\u001b[0m \u001b[1;33m.\u001b[0m\u001b[0mmetrics\u001b[0m \u001b[1;32mimport\u001b[0m \u001b[0maccuracy_score\u001b[0m\u001b[1;33m\u001b[0m\u001b[1;33m\u001b[0m\u001b[0m\n\u001b[1;32m--> 499\u001b[1;33m         \u001b[1;32mreturn\u001b[0m \u001b[0maccuracy_score\u001b[0m\u001b[1;33m(\u001b[0m\u001b[0my\u001b[0m\u001b[1;33m,\u001b[0m \u001b[0mself\u001b[0m\u001b[1;33m.\u001b[0m\u001b[0mpredict\u001b[0m\u001b[1;33m(\u001b[0m\u001b[0mX\u001b[0m\u001b[1;33m)\u001b[0m\u001b[1;33m,\u001b[0m \u001b[0msample_weight\u001b[0m\u001b[1;33m=\u001b[0m\u001b[0msample_weight\u001b[0m\u001b[1;33m)\u001b[0m\u001b[1;33m\u001b[0m\u001b[1;33m\u001b[0m\u001b[0m\n\u001b[0m\u001b[0;32m    500\u001b[0m \u001b[1;33m\u001b[0m\u001b[0m\n\u001b[0;32m    501\u001b[0m     \u001b[1;32mdef\u001b[0m \u001b[0m_more_tags\u001b[0m\u001b[1;33m(\u001b[0m\u001b[0mself\u001b[0m\u001b[1;33m)\u001b[0m\u001b[1;33m:\u001b[0m\u001b[1;33m\u001b[0m\u001b[1;33m\u001b[0m\u001b[0m\n",
            "\u001b[1;32m~\\AppData\\Local\\Programs\\Python\\Python38-32\\lib\\site-packages\\sklearn\\neural_network\\_multilayer_perceptron.py\u001b[0m in \u001b[0;36mpredict\u001b[1;34m(self, X)\u001b[0m\n\u001b[0;32m   1002\u001b[0m         \"\"\"\n\u001b[0;32m   1003\u001b[0m         \u001b[0mcheck_is_fitted\u001b[0m\u001b[1;33m(\u001b[0m\u001b[0mself\u001b[0m\u001b[1;33m)\u001b[0m\u001b[1;33m\u001b[0m\u001b[1;33m\u001b[0m\u001b[0m\n\u001b[1;32m-> 1004\u001b[1;33m         \u001b[0my_pred\u001b[0m \u001b[1;33m=\u001b[0m \u001b[0mself\u001b[0m\u001b[1;33m.\u001b[0m\u001b[0m_predict\u001b[0m\u001b[1;33m(\u001b[0m\u001b[0mX\u001b[0m\u001b[1;33m)\u001b[0m\u001b[1;33m\u001b[0m\u001b[1;33m\u001b[0m\u001b[0m\n\u001b[0m\u001b[0;32m   1005\u001b[0m \u001b[1;33m\u001b[0m\u001b[0m\n\u001b[0;32m   1006\u001b[0m         \u001b[1;32mif\u001b[0m \u001b[0mself\u001b[0m\u001b[1;33m.\u001b[0m\u001b[0mn_outputs_\u001b[0m \u001b[1;33m==\u001b[0m \u001b[1;36m1\u001b[0m\u001b[1;33m:\u001b[0m\u001b[1;33m\u001b[0m\u001b[1;33m\u001b[0m\u001b[0m\n",
            "\u001b[1;32m~\\AppData\\Local\\Programs\\Python\\Python38-32\\lib\\site-packages\\sklearn\\neural_network\\_multilayer_perceptron.py\u001b[0m in \u001b[0;36m_predict\u001b[1;34m(self, X)\u001b[0m\n\u001b[0;32m    694\u001b[0m \u001b[1;33m\u001b[0m\u001b[0m\n\u001b[0;32m    695\u001b[0m         \u001b[1;32mfor\u001b[0m \u001b[0mi\u001b[0m \u001b[1;32min\u001b[0m \u001b[0mrange\u001b[0m\u001b[1;33m(\u001b[0m\u001b[0mself\u001b[0m\u001b[1;33m.\u001b[0m\u001b[0mn_layers_\u001b[0m \u001b[1;33m-\u001b[0m \u001b[1;36m1\u001b[0m\u001b[1;33m)\u001b[0m\u001b[1;33m:\u001b[0m\u001b[1;33m\u001b[0m\u001b[1;33m\u001b[0m\u001b[0m\n\u001b[1;32m--> 696\u001b[1;33m             activations.append(np.empty((X.shape[0],\n\u001b[0m\u001b[0;32m    697\u001b[0m                                          layer_units[i + 1])))\n\u001b[0;32m    698\u001b[0m         \u001b[1;31m# forward propagate\u001b[0m\u001b[1;33m\u001b[0m\u001b[1;33m\u001b[0m\u001b[1;33m\u001b[0m\u001b[0m\n",
            "\u001b[1;31mMemoryError\u001b[0m: Unable to allocate 152. MiB for an array with shape (199528, 100) and data type float64"
          ]
        }
      ]
    },
    {
      "cell_type": "code",
      "metadata": {
        "id": "y-NjUt4VMtfI",
        "outputId": "248f0d56-fca7-495d-ff4e-d5c430906286",
        "colab": {
          "base_uri": "https://localhost:8080/",
          "height": 33
        }
      },
      "source": [
        "mlp.score(x_test,y_test)"
      ],
      "execution_count": 160,
      "outputs": [
        {
          "output_type": "execute_result",
          "data": {
            "text/plain": [
              "0.9730569532706533"
            ]
          },
          "metadata": {},
          "execution_count": 160
        }
      ]
    },
    {
      "cell_type": "code",
      "metadata": {
        "id": "iyy-U7kFM0sZ",
        "outputId": "3a0f5428-dff4-4d6b-934a-d08223400b75",
        "colab": {
          "base_uri": "https://localhost:8080/",
          "height": 33
        }
      },
      "source": [
        "pickle.dump(mlp, open(\"multi_layer_perceptron.pkl\",'wb'))\n",
        "pickle.load(open(\"multi_layer_perceptron.pkl\",'rb')) \n"
      ],
      "execution_count": 161,
      "outputs": [
        {
          "output_type": "execute_result",
          "data": {
            "text/plain": [
              "MLPClassifier(activation='logistic', alpha=1e-05, max_iter=400)"
            ]
          },
          "metadata": {},
          "execution_count": 161
        }
      ]
    },
    {
      "cell_type": "code",
      "execution_count": null,
      "metadata": {},
      "outputs": [],
      "source": []
    }
  ]
}